{
 "cells": [
  {
   "cell_type": "markdown",
   "metadata": {},
   "source": [
    "\n",
    "## 1. Single-Feature Linear Regression\n",
    "\n",
    "### Data Selection\n",
    "**Feature Chosen:** Alcohol  \n",
    "**Output Chosen:** Quality"
   ]
  },
  {
   "cell_type": "markdown",
   "metadata": {},
   "source": [
    "**Rationale:**  \n",
    "Alcohol is strongly correlated with wine quality, influencing flavor, aroma, and body. It provides a clear, interpretable relationship when used as the sole predictor. Quality is the direct measure used to evaluate wine."
   ]
  },
  {
   "cell_type": "code",
   "execution_count": 22,
   "metadata": {},
   "outputs": [],
   "source": [
    "import pandas as pd\n",
    "import torch\n",
    "import torch.nn as nn\n",
    "import torch.optim as optim\n",
    "import matplotlib.pyplot as plt\n",
    "from sklearn.model_selection import train_test_split\n",
    "\n",
    "\n",
    "df = pd.read_csv('winequality-red-cleaned.csv')\n",
    "\n",
    "x = df[['alcohol']] # Features\n",
    "y = df['quality'] # Target variable"
   ]
  },
  {
   "cell_type": "markdown",
   "metadata": {},
   "source": [
    "### Implementation in PyTorch"
   ]
  },
  {
   "cell_type": "code",
   "execution_count": 23,
   "metadata": {},
   "outputs": [
    {
     "name": "stdout",
     "output_type": "stream",
     "text": [
      "OrderedDict({'weight': tensor([[0.3625]]), 'bias': tensor([1.5035])})\n",
      "1.668497920036316\n"
     ]
    },
    {
     "data": {
      "image/png": "[encoded data removed]",
      "text/plain": [
       "<Figure size 640x480 with 1 Axes>"
      ]
     },
     "metadata": {},
     "output_type": "display_data"
    }
   ],
   "source": [
    "x = torch.tensor(df['alcohol'].values, dtype=torch.float32).unsqueeze(1)\n",
    "y = torch.tensor(df['quality'].values, dtype=torch.float32).unsqueeze(1)\n",
    "\n",
    "model = nn.Linear(1, 1)\n",
    "criterion = nn.MSELoss()\n",
    "optimizer = optim.SGD(model.parameters(), lr=0.001)\n",
    "\n",
    "for epoch in range(1000):\n",
    "    optimizer.zero_grad()\n",
    "    output = model(x)\n",
    "    loss = criterion(output, y)\n",
    "    loss.backward()\n",
    "    optimizer.step()\n",
    "\n",
    "print(model.state_dict())\n",
    "print(loss.item())\n",
    "\n",
    "plt.scatter(x.numpy(), y.numpy())\n",
    "plt.plot(x.numpy(), model(x).detach().numpy(), color='red')\n",
    "plt.xlabel('Alcohol')\n",
    "plt.ylabel('Quality')\n",
    "plt.title('Single-Feature Linear Regression: Alcohol vs Quality')\n",
    "plt.show()"
   ]
  },
  {
   "cell_type": "markdown",
   "metadata": {},
   "source": [
    "### Analysis\n",
    "#### Training Procedure: The model's parameters were randomly initialized. A forward pass computed predictions, followed by the calculation of the mean squared error (MSE) loss. Gradient descent was then used to update the model parameters.\n",
    "\n",
    "#### Final Parameters: The learned weight and bias are printed from model.state_dict().\n",
    "\n",
    "#### Final Loss: The final MSE loss is printed using loss.item().\n",
    "\n",
    "#### Observations: The regression line visually captures the overall trend between alcohol content and quality, although some data variability remains unexplained by the model."
   ]
  },
  {
   "cell_type": "markdown",
   "metadata": {},
   "source": [
    "## 2. Multiple-Feature Linear Regression\n",
    "### Data Selection\n",
    "**Features Chosen:** Alcohol, Volatile Acidity, Residual Sugar\n",
    "\n",
    "**Output Chosen:** Quality\n",
    "\n",
    "**Rationale:**\n",
    "\n",
    "Alcohol: Indicates fermentation strength and overall character.\n",
    "\n",
    "Volatile Acidity: Affects the aroma profile of the wine.\n",
    "\n",
    "Residual Sugar: Influences the taste and balance of the wine.\n",
    "\n",
    "Combining these features provides a more comprehensive representation of the factors that affect wine quality compared to using a single feature."
   ]
  },
  {
   "cell_type": "code",
   "execution_count": 24,
   "metadata": {},
   "outputs": [
    {
     "name": "stdout",
     "output_type": "stream",
     "text": [
      "OrderedDict({'weight': tensor([[nan, nan, nan]]), 'bias': tensor([nan])})\n",
      "nan\n"
     ]
    }
   ],
   "source": [
    "features = df[['alcohol', 'volatile acidity', 'residual sugar']]\n",
    "x = torch.tensor(features.values, dtype=torch.float32)\n",
    "y = torch.tensor(df['quality'].values, dtype=torch.float32).unsqueeze(1)\n",
    "\n",
    "model = nn.Linear(3, 1)\n",
    "criterion = nn.MSELoss()\n",
    "optimizer = optim.SGD(model.parameters(), lr=0.001)\n",
    "\n",
    "for epoch in range(1000):\n",
    "    optimizer.zero_grad()\n",
    "    output = model(x)\n",
    "    loss = criterion(output, y)\n",
    "    loss.backward()\n",
    "    optimizer.step()\n",
    "\n",
    "print(model.state_dict())\n",
    "print(loss.item())\n"
   ]
  },
  {
   "cell_type": "markdown",
   "metadata": {},
   "source": [
    "## Analysis\n",
    "**Training Procedure:** A multi-feature linear regression model was constructed using three input features. The model was trained using the mean squared error (MSE) loss and gradient descent.\n",
    "\n",
    "**Final Parameters:** The learned weights for each feature and the bias are printed via model.state_dict().\n",
    "\n",
    "**Final Loss:** The final training loss is output using loss.item().\n",
    "\n",
    "**Observations:** Incorporating multiple features improves the model’s ability to capture the variability in wine quality. However, the increased complexity may also introduce challenges such as multicollinearity among features."
   ]
  },
  {
   "cell_type": "markdown",
   "metadata": {},
   "source": [
    "## 3. Polynomial Regression\n",
    "### Feature Transformation\n",
    "For the polynomial regression, the same three features (Alcohol, Volatile Acidity, Residual Sugar) are used. Polynomial features are generated by taking powers of each individual feature (without including cross-terms).\n",
    "\n",
    "Polynomial Degrees Tested: 2, 4, and 6"
   ]
  },
  {
   "cell_type": "code",
   "execution_count": 25,
   "metadata": {},
   "outputs": [
    {
     "name": "stdout",
     "output_type": "stream",
     "text": [
      "OrderedDict({'weight': tensor([[nan, nan, nan, nan, nan, nan]]), 'bias': tensor([nan])})\n",
      "Degree 2 Loss: nan\n"
     ]
    }
   ],
   "source": [
    "features = df[['alcohol', 'volatile acidity', 'residual sugar']]\n",
    "x = torch.tensor(features.values, dtype=torch.float32)\n",
    "y = torch.tensor(df['quality'].values, dtype=torch.float32).unsqueeze(1)\n",
    "\n",
    "def poly_features(x, degree):\n",
    "    poly = [x**i for i in range(1, degree+1)]\n",
    "    return torch.cat(poly, dim=1)\n",
    "\n",
    "x_poly2 = poly_features(x, 2)\n",
    "model2 = nn.Linear(x_poly2.shape[1], 1)\n",
    "criterion = nn.MSELoss()\n",
    "optimizer = optim.SGD(model2.parameters(), lr=0.001)\n",
    "\n",
    "for epoch in range(1000):\n",
    "    optimizer.zero_grad()\n",
    "    output = model2(x_poly2)\n",
    "    loss = criterion(output, y)\n",
    "    loss.backward()\n",
    "    optimizer.step()\n",
    "\n",
    "print(model2.state_dict())\n",
    "print('Degree 2 Loss:', loss.item())\n"
   ]
  },
  {
   "cell_type": "code",
   "execution_count": 26,
   "metadata": {},
   "outputs": [
    {
     "name": "stdout",
     "output_type": "stream",
     "text": [
      "OrderedDict({'weight': tensor([[nan, nan, nan, nan, nan, nan, nan, nan, nan, nan, nan, nan]]), 'bias': tensor([nan])})\n",
      "Degree 4 Loss: nan\n"
     ]
    }
   ],
   "source": [
    "x_poly4 = poly_features(x, 4)\n",
    "model4 = nn.Linear(x_poly4.shape[1], 1)\n",
    "optimizer = optim.SGD(model4.parameters(), lr=0.001)\n",
    "\n",
    "for epoch in range(1000):\n",
    "    optimizer.zero_grad()\n",
    "    output = model4(x_poly4)\n",
    "    loss = criterion(output, y)\n",
    "    loss.backward()\n",
    "    optimizer.step()\n",
    "\n",
    "print(model4.state_dict())\n",
    "print('Degree 4 Loss:', loss.item())\n"
   ]
  },
  {
   "cell_type": "code",
   "execution_count": 27,
   "metadata": {},
   "outputs": [
    {
     "name": "stdout",
     "output_type": "stream",
     "text": [
      "OrderedDict({'weight': tensor([[nan, nan, nan, nan, nan, nan, nan, nan, nan, nan, nan, nan, nan, nan, nan, nan, nan, nan]]), 'bias': tensor([nan])})\n",
      "Degree 6 Loss: nan\n"
     ]
    }
   ],
   "source": [
    "x_poly6 = poly_features(x, 6)\n",
    "model6 = nn.Linear(x_poly6.shape[1], 1)\n",
    "optimizer = optim.SGD(model6.parameters(), lr=0.001)\n",
    "\n",
    "for epoch in range(1000):\n",
    "    optimizer.zero_grad()\n",
    "    output = model6(x_poly6)\n",
    "    loss = criterion(output, y)\n",
    "    loss.backward()\n",
    "    optimizer.step()\n",
    "\n",
    "print(model6.state_dict())\n",
    "print('Degree 6 Loss:', loss.item())\n"
   ]
  },
  {
   "cell_type": "markdown",
   "metadata": {},
   "source": [
    "## Analysis\n",
    "### Performance Summary:\n",
    "\n",
    "**Degree 2 Loss:** The final loss value printed from the degree 2 model.\n",
    "\n",
    "**Degree 4 Loss:** The final loss value printed from the degree 4 model.\n",
    "\n",
    "**Degree 6 Loss:** The final loss value printed from the degree 6 model.\n",
    "\n",
    "**Observations:** Increasing the polynomial degree generally reduces the training loss, indicating a better fit to the training data. However, higher-degree models risk overfitting by capturing noise rather than the true underlying data pattern. The optimal degree is determined by balancing loss reduction with the model's generalization capability.\n",
    "\n",
    "**Risks of Overfitting:** High-degree polynomials may fit the training data very well but perform poorly on unseen data due to capturing noise."
   ]
  },
  {
   "cell_type": "markdown",
   "metadata": {},
   "source": [
    "## 4. Binary Classification\n",
    "### Binary Label Construction\n",
    "### A binary classification label was created using citric acid content. Wines with citric acid greater than 0 are labeled as 1; wines with a value of 0 are labeled as 0.\n",
    "\n",
    "#### Features Chosen for Classification: Alcohol, Volatile Acidity\n",
    "**Binary Label:** (Citric Acid > 0)"
   ]
  },
  {
   "cell_type": "code",
   "execution_count": 28,
   "metadata": {},
   "outputs": [
    {
     "ename": "RuntimeError",
     "evalue": "mat1 and mat2 shapes cannot be multiplied (1128x3 and 2x1)",
     "output_type": "error",
     "traceback": [
      "\u001b[31m---------------------------------------------------------------------------\u001b[39m",
      "\u001b[31mRuntimeError\u001b[39m                              Traceback (most recent call last)",
      "\u001b[36mCell\u001b[39m\u001b[36m \u001b[39m\u001b[32mIn[28]\u001b[39m\u001b[32m, line 9\u001b[39m\n\u001b[32m      7\u001b[39m \u001b[38;5;28;01mfor\u001b[39;00m epoch \u001b[38;5;129;01min\u001b[39;00m \u001b[38;5;28mrange\u001b[39m(\u001b[32m1000\u001b[39m):\n\u001b[32m      8\u001b[39m     optimizer.zero_grad()\n\u001b[32m----> \u001b[39m\u001b[32m9\u001b[39m     output = \u001b[43mmodel\u001b[49m\u001b[43m(\u001b[49m\u001b[43mx_train\u001b[49m\u001b[43m)\u001b[49m\n\u001b[32m     10\u001b[39m     loss = criterion(output, y_train)\n\u001b[32m     11\u001b[39m     loss.backward()\n",
      "\u001b[36mFile \u001b[39m\u001b[32md:\\School\\MS Computer Science\\Spring 2025\\CAP 5610\\Assignments\\Assignment 2\\.venv\\Lib\\site-packages\\torch\\nn\\modules\\module.py:1739\u001b[39m, in \u001b[36mModule._wrapped_call_impl\u001b[39m\u001b[34m(self, *args, **kwargs)\u001b[39m\n\u001b[32m   1737\u001b[39m     \u001b[38;5;28;01mreturn\u001b[39;00m \u001b[38;5;28mself\u001b[39m._compiled_call_impl(*args, **kwargs)  \u001b[38;5;66;03m# type: ignore[misc]\u001b[39;00m\n\u001b[32m   1738\u001b[39m \u001b[38;5;28;01melse\u001b[39;00m:\n\u001b[32m-> \u001b[39m\u001b[32m1739\u001b[39m     \u001b[38;5;28;01mreturn\u001b[39;00m \u001b[38;5;28;43mself\u001b[39;49m\u001b[43m.\u001b[49m\u001b[43m_call_impl\u001b[49m\u001b[43m(\u001b[49m\u001b[43m*\u001b[49m\u001b[43margs\u001b[49m\u001b[43m,\u001b[49m\u001b[43m \u001b[49m\u001b[43m*\u001b[49m\u001b[43m*\u001b[49m\u001b[43mkwargs\u001b[49m\u001b[43m)\u001b[49m\n",
      "\u001b[36mFile \u001b[39m\u001b[32md:\\School\\MS Computer Science\\Spring 2025\\CAP 5610\\Assignments\\Assignment 2\\.venv\\Lib\\site-packages\\torch\\nn\\modules\\module.py:1750\u001b[39m, in \u001b[36mModule._call_impl\u001b[39m\u001b[34m(self, *args, **kwargs)\u001b[39m\n\u001b[32m   1745\u001b[39m \u001b[38;5;66;03m# If we don't have any hooks, we want to skip the rest of the logic in\u001b[39;00m\n\u001b[32m   1746\u001b[39m \u001b[38;5;66;03m# this function, and just call forward.\u001b[39;00m\n\u001b[32m   1747\u001b[39m \u001b[38;5;28;01mif\u001b[39;00m \u001b[38;5;129;01mnot\u001b[39;00m (\u001b[38;5;28mself\u001b[39m._backward_hooks \u001b[38;5;129;01mor\u001b[39;00m \u001b[38;5;28mself\u001b[39m._backward_pre_hooks \u001b[38;5;129;01mor\u001b[39;00m \u001b[38;5;28mself\u001b[39m._forward_hooks \u001b[38;5;129;01mor\u001b[39;00m \u001b[38;5;28mself\u001b[39m._forward_pre_hooks\n\u001b[32m   1748\u001b[39m         \u001b[38;5;129;01mor\u001b[39;00m _global_backward_pre_hooks \u001b[38;5;129;01mor\u001b[39;00m _global_backward_hooks\n\u001b[32m   1749\u001b[39m         \u001b[38;5;129;01mor\u001b[39;00m _global_forward_hooks \u001b[38;5;129;01mor\u001b[39;00m _global_forward_pre_hooks):\n\u001b[32m-> \u001b[39m\u001b[32m1750\u001b[39m     \u001b[38;5;28;01mreturn\u001b[39;00m \u001b[43mforward_call\u001b[49m\u001b[43m(\u001b[49m\u001b[43m*\u001b[49m\u001b[43margs\u001b[49m\u001b[43m,\u001b[49m\u001b[43m \u001b[49m\u001b[43m*\u001b[49m\u001b[43m*\u001b[49m\u001b[43mkwargs\u001b[49m\u001b[43m)\u001b[49m\n\u001b[32m   1752\u001b[39m result = \u001b[38;5;28;01mNone\u001b[39;00m\n\u001b[32m   1753\u001b[39m called_always_called_hooks = \u001b[38;5;28mset\u001b[39m()\n",
      "\u001b[36mFile \u001b[39m\u001b[32md:\\School\\MS Computer Science\\Spring 2025\\CAP 5610\\Assignments\\Assignment 2\\.venv\\Lib\\site-packages\\torch\\nn\\modules\\linear.py:125\u001b[39m, in \u001b[36mLinear.forward\u001b[39m\u001b[34m(self, input)\u001b[39m\n\u001b[32m    124\u001b[39m \u001b[38;5;28;01mdef\u001b[39;00m\u001b[38;5;250m \u001b[39m\u001b[34mforward\u001b[39m(\u001b[38;5;28mself\u001b[39m, \u001b[38;5;28minput\u001b[39m: Tensor) -> Tensor:\n\u001b[32m--> \u001b[39m\u001b[32m125\u001b[39m     \u001b[38;5;28;01mreturn\u001b[39;00m \u001b[43mF\u001b[49m\u001b[43m.\u001b[49m\u001b[43mlinear\u001b[49m\u001b[43m(\u001b[49m\u001b[38;5;28;43minput\u001b[39;49m\u001b[43m,\u001b[49m\u001b[43m \u001b[49m\u001b[38;5;28;43mself\u001b[39;49m\u001b[43m.\u001b[49m\u001b[43mweight\u001b[49m\u001b[43m,\u001b[49m\u001b[43m \u001b[49m\u001b[38;5;28;43mself\u001b[39;49m\u001b[43m.\u001b[49m\u001b[43mbias\u001b[49m\u001b[43m)\u001b[49m\n",
      "\u001b[31mRuntimeError\u001b[39m: mat1 and mat2 shapes cannot be multiplied (1128x3 and 2x1)"
     ]
    }
   ],
   "source": [
    "x_train, x_test, y_train, y_test = train_test_split(x, y, test_size=0.2, random_state=42)\n",
    "\n",
    "model = nn.Linear(2, 1)\n",
    "criterion = nn.BCEWithLogitsLoss()\n",
    "optimizer = optim.SGD(model.parameters(), lr=0.001)\n",
    "\n",
    "for epoch in range(1000):\n",
    "    optimizer.zero_grad()\n",
    "    output = model(x_train)\n",
    "    loss = criterion(output, y_train)\n",
    "    loss.backward()\n",
    "    optimizer.step()\n",
    "\n",
    "print(model.state_dict())\n",
    "print('Training Loss:', loss.item())"
   ]
  },
  {
   "cell_type": "code",
   "execution_count": null,
   "metadata": {},
   "outputs": [],
   "source": []
  }
 ],
 "metadata": {
  "kernelspec": {
   "display_name": ".venv",
   "language": "python",
   "name": "python3"
  },
  "language_info": {
   "codemirror_mode": {
    "name": "ipython",
    "version": 3
   },
   "file_extension": ".py",
   "mimetype": "text/x-python",
   "name": "python",
   "nbconvert_exporter": "python",
   "pygments_lexer": "ipython3",
   "version": "3.12.2"
  }
 },
 "nbformat": 4,
 "nbformat_minor": 2
}
