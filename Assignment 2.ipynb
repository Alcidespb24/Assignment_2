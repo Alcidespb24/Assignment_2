{
 "cells": [
  {
   "cell_type": "markdown",
   "metadata": {},
   "source": [
    "# Single-Feature Linear Regression\n",
    "\n",
    "**Data Selection & Rationale:**  \n",
    "We select \"Alcohol\" as the single independent variable because it is a known factor influencing the wine's quality. The output (dependent variable) is \"Quality\"."
   ]
  },
  {
   "cell_type": "markdown",
   "metadata": {},
   "source": [
    "**Rationale:**  \n",
    "Alcohol is strongly correlated with wine quality, influencing flavor, aroma, and body. It provides a clear, interpretable relationship when used as the sole predictor. Quality is the direct measure used to evaluate wine."
   ]
  },
  {
   "cell_type": "code",
   "execution_count": 9,
   "metadata": {},
   "outputs": [],
   "source": [
    "import pandas as pd\n",
    "import torch\n",
    "import torch.nn as nn\n",
    "import torch.optim as optim\n",
    "import matplotlib.pyplot as plt\n",
    "from sklearn.model_selection import train_test_split\n",
    "\n",
    "\n",
    "df = pd.read_csv('winequality-red-cleaned.csv')\n",
    "\n",
    "x = df[['alcohol']] # Features\n",
    "y = df['quality'] # Target variable"
   ]
  },
  {
   "cell_type": "markdown",
   "metadata": {},
   "source": [
    "### Implementation in PyTorch"
   ]
  },
  {
   "cell_type": "code",
   "execution_count": 10,
   "metadata": {},
   "outputs": [
    {
     "name": "stdout",
     "output_type": "stream",
     "text": [
      "----- Single-Feature Linear Regression -----\n",
      "Model Parameters: OrderedDict({'weight': tensor([[0.3947]]), 'bias': tensor([1.1350])})\n",
      "Final Loss: 1.8821\n"
     ]
    },
    {
     "data": {
      "image/png": "[encoded data removed]",
      "text/plain": [
       "<Figure size 700x500 with 1 Axes>"
      ]
     },
     "metadata": {},
     "output_type": "display_data"
    }
   ],
   "source": [
    "x = torch.tensor(df['alcohol'].values, dtype=torch.float32).unsqueeze(1)\n",
    "y = torch.tensor(df['quality'].values, dtype=torch.float32).unsqueeze(1)\n",
    "\n",
    "model = nn.Linear(1, 1)\n",
    "criterion = nn.MSELoss()\n",
    "optimizer = optim.SGD(model.parameters(), lr=0.001)\n",
    "\n",
    "epochs = 1000\n",
    "for epoch in range(epochs):\n",
    "    optimizer.zero_grad()\n",
    "    output_single = model(x)\n",
    "    loss = criterion(output_single, y)\n",
    "    loss.backward()\n",
    "    optimizer.step()\n",
    "\n",
    "print(\"----- Single-Feature Linear Regression -----\")\n",
    "print(\"Model Parameters:\", model.state_dict())\n",
    "print(\"Final Loss: {:.4f}\".format(loss.item()))\n",
    "\n",
    "plt.figure(figsize=(7, 5))\n",
    "plt.scatter(x.numpy(), y.numpy(), label='Data Points')\n",
    "plt.plot(x.numpy(), model(x).detach().numpy(), color='red', label='Regression Line')\n",
    "plt.xlabel('Alcohol')\n",
    "plt.ylabel('Quality')\n",
    "plt.title('Alcohol vs. Quality')\n",
    "plt.legend()\n",
    "plt.show()"
   ]
  },
  {
   "cell_type": "markdown",
   "metadata": {},
   "source": [
    "## Analysis: Single-Feature Linear Regression\n",
    "\n",
    "- **Training Procedure:**  \n",
    "  The model was initialized with random parameters and trained for 1000 epochs using Mean Squared Error (MSE) loss and SGD with a learning rate of 0.001.\n",
    "\n",
    "- **Final Parameters & Loss:**  \n",
    "  The final model parameters (weight and bias) are displayed, along with the final MSE loss.\n",
    "\n",
    "- **Observations:**  \n",
    "  The regression line overlays the scatter plot of alcohol vs. quality, capturing the overall trend. Some data variability remains unexplained, which is expected for a single-feature model.\n"
   ]
  },
  {
   "cell_type": "markdown",
   "metadata": {},
   "source": [
    "# Multiple-Feature Linear Regression\n",
    "\n",
    "**Data Selection & Rationale:**  \n",
    "- **Alcohol:** Reflects fermentation strength.  \n",
    "- **Volatile Acidity:** Influences aroma and overall balance.  \n",
    "- **Residual Sugar:** Affects taste and balance.  \n",
    "Combining these features provides a more comprehensive view of the factors influencing wine quality.\n",
    "\n"
   ]
  },
  {
   "cell_type": "code",
   "execution_count": 11,
   "metadata": {},
   "outputs": [
    {
     "name": "stdout",
     "output_type": "stream",
     "text": [
      "\n",
      "----- Multiple-Feature Linear Regression -----\n",
      "Model Parameters: OrderedDict({'weight': tensor([[nan, nan, nan]]), 'bias': tensor([nan])})\n",
      "Final Loss: nan\n"
     ]
    }
   ],
   "source": [
    "features = df[['alcohol', 'volatile acidity', 'residual sugar']]\n",
    "x_multi = torch.tensor(features.values, dtype=torch.float32)\n",
    "y_multi = torch.tensor(df['quality'].values, dtype=torch.float32).unsqueeze(1)\n",
    "\n",
    "model_multi = nn.Linear(3, 1)\n",
    "criterion_multi = nn.MSELoss()\n",
    "optimizer_multi = optim.SGD(model_multi.parameters(), lr=0.001)\n",
    "\n",
    "for epoch in range(epochs):\n",
    "    optimizer_multi.zero_grad()\n",
    "    output_multi = model_multi(x_multi)\n",
    "    loss_multi = criterion_multi(output_multi, y_multi)\n",
    "    loss_multi.backward()\n",
    "    optimizer_multi.step()\n",
    "\n",
    "print(\"\\n----- Multiple-Feature Linear Regression -----\")\n",
    "print(\"Model Parameters:\", model_multi.state_dict())\n",
    "print(\"Final Loss: {:.4f}\".format(loss_multi.item()))\n"
   ]
  },
  {
   "cell_type": "markdown",
   "metadata": {},
   "source": [
    "## Analysis: Multiple-Feature Linear Regression\n",
    "\n",
    "- **Training Procedure:**  \n",
    "  A linear regression model with three input features was built and trained using MSE loss and SGD for 1000 epochs.\n",
    "\n",
    "- **Final Parameters & Loss:**  \n",
    "  The final learned weights for Alcohol, Volatile Acidity, and Residual Sugar, along with the bias, are displayed. The final MSE loss indicates the model’s performance.\n",
    "\n",
    "- **Observations:**  \n",
    "  Including multiple features allows the model to capture more variability in wine quality compared to a single feature. However, potential issues such as multicollinearity should be considered.\n"
   ]
  },
  {
   "cell_type": "markdown",
   "metadata": {},
   "source": [
    "# Polynomial Regression\n",
    "\n",
    "**Feature Transformation & Rationale:**  \n",
    "Polynomial features (without cross-terms) are generated for degrees 2, 4, and 6 to capture non-linear trends in the data.\n"
   ]
  },
  {
   "cell_type": "code",
   "execution_count": 12,
   "metadata": {},
   "outputs": [
    {
     "name": "stdout",
     "output_type": "stream",
     "text": [
      "\n",
      "----- Polynomial Regression (Degree 2) -----\n",
      "Model Parameters: OrderedDict({'weight': tensor([[nan, nan, nan, nan, nan, nan]]), 'bias': tensor([nan])})\n",
      "Final Loss (Degree 2): nan\n",
      "\n",
      "----- Polynomial Regression (Degree 4) -----\n",
      "Model Parameters: OrderedDict({'weight': tensor([[nan, nan, nan, nan, nan, nan, nan, nan, nan, nan, nan, nan]]), 'bias': tensor([nan])})\n",
      "Final Loss (Degree 4): nan\n",
      "\n",
      "----- Polynomial Regression (Degree 6) -----\n",
      "Model Parameters: OrderedDict({'weight': tensor([[nan, nan, nan, nan, nan, nan, nan, nan, nan, nan, nan, nan, nan, nan, nan, nan, nan, nan]]), 'bias': tensor([nan])})\n",
      "Final Loss (Degree 6): nan\n"
     ]
    }
   ],
   "source": [
    "def poly_features(x, degree):\n",
    "    poly = [x ** i for i in range(1, degree + 1)]\n",
    "    return torch.cat(poly, dim=1)\n",
    "\n",
    "x_poly = torch.tensor(features.values, dtype=torch.float32)\n",
    "y_poly = torch.tensor(df['quality'].values, dtype=torch.float32).unsqueeze(1)\n",
    "\n",
    "x_poly2 = poly_features(x_poly, 2)\n",
    "model_poly2 = nn.Linear(x_poly2.shape[1], 1)\n",
    "optimizer_poly2 = optim.SGD(model_poly2.parameters(), lr=0.001)\n",
    "for epoch in range(epochs):\n",
    "    optimizer_poly2.zero_grad()\n",
    "    output_poly2 = model_poly2(x_poly2)\n",
    "    loss_poly2 = criterion(output_poly2, y_poly)\n",
    "    loss_poly2.backward()\n",
    "    optimizer_poly2.step()\n",
    "print(\"\\n----- Polynomial Regression (Degree 2) -----\")\n",
    "print(\"Model Parameters:\", model_poly2.state_dict())\n",
    "print(\"Final Loss (Degree 2): {:.4f}\".format(loss_poly2.item()))\n",
    "\n",
    "x_poly4 = poly_features(x_poly, 4)\n",
    "model_poly4 = nn.Linear(x_poly4.shape[1], 1)\n",
    "optimizer_poly4 = optim.SGD(model_poly4.parameters(), lr=0.001)\n",
    "for epoch in range(epochs):\n",
    "    optimizer_poly4.zero_grad()\n",
    "    output_poly4 = model_poly4(x_poly4)\n",
    "    loss_poly4 = criterion(output_poly4, y_poly)\n",
    "    loss_poly4.backward()\n",
    "    optimizer_poly4.step()\n",
    "print(\"\\n----- Polynomial Regression (Degree 4) -----\")\n",
    "print(\"Model Parameters:\", model_poly4.state_dict())\n",
    "print(\"Final Loss (Degree 4): {:.4f}\".format(loss_poly4.item()))\n",
    "\n",
    "x_poly6 = poly_features(x_poly, 6)\n",
    "model_poly6 = nn.Linear(x_poly6.shape[1], 1)\n",
    "optimizer_poly6 = optim.SGD(model_poly6.parameters(), lr=0.001)\n",
    "for epoch in range(epochs):\n",
    "    optimizer_poly6.zero_grad()\n",
    "    output_poly6 = model_poly6(x_poly6)\n",
    "    loss_poly6 = criterion(output_poly6, y_poly)\n",
    "    loss_poly6.backward()\n",
    "    optimizer_poly6.step()\n",
    "print(\"\\n----- Polynomial Regression (Degree 6) -----\")\n",
    "print(\"Model Parameters:\", model_poly6.state_dict())\n",
    "print(\"Final Loss (Degree 6): {:.4f}\".format(loss_poly6.item()))\n"
   ]
  },
  {
   "cell_type": "markdown",
   "metadata": {},
   "source": [
    "## Analysis: Polynomial Regression\n",
    "\n",
    "- **Training Procedure:**  \n",
    "  A function was created to generate polynomial features for the three chosen features. Separate linear models were trained for degrees 2, 4, and 6 using the same training setup.\n",
    "\n",
    "- **Final Loss Comparison:**  \n",
    "  The final loss for each polynomial degree is printed. Typically, the loss decreases with increasing degree, indicating a better fit to the training data.\n",
    "\n",
    "- **Observations & Risks:**  \n",
    "  While higher-degree polynomial models reduce the training loss, they may capture noise and lead to overfitting. Therefore, it is important to balance the fit and generalization performance.\n"
   ]
  },
  {
   "cell_type": "markdown",
   "metadata": {},
   "source": [
    "# Binary Classification\n",
    "\n",
    "**Data Selection & Rationale:**  \n",
    "- **Features:** Alcohol and Volatile Acidity  \n",
    "- **Label:** Binary label where wines with citric acid > 0 are labeled as 1, and those with citric acid = 0 are labeled as 0.  \n",
    "*Rationale:* Citric acid can be a distinctive factor; using these features, we assess if they can predict the presence of citric acid.\n",
    "\n"
   ]
  },
  {
   "cell_type": "code",
   "execution_count": 13,
   "metadata": {},
   "outputs": [
    {
     "name": "stdout",
     "output_type": "stream",
     "text": [
      "\n",
      "----- Binary Classification -----\n",
      "Model Parameters: OrderedDict({'weight': tensor([[ 0.2667, -0.4204]]), 'bias': tensor([-0.2873])})\n",
      "Final Training Loss: 0.3109\n"
     ]
    }
   ],
   "source": [
    "from sklearn.model_selection import train_test_split\n",
    "\n",
    "x_bin = torch.tensor(df[['alcohol', 'volatile acidity']].values, dtype=torch.float32)\n",
    "y_bin = torch.tensor((df['citric acid'] > 0).astype(float).values, dtype=torch.float32).unsqueeze(1)\n",
    "\n",
    "x_train, x_test, y_train, y_test = train_test_split(x_bin, y_bin, test_size=0.2, random_state=42)\n",
    "\n",
    "model_bin = nn.Linear(2, 1)\n",
    "criterion_bin = nn.BCEWithLogitsLoss()  # Combines a sigmoid layer with binary cross-entropy loss\n",
    "optimizer_bin = optim.SGD(model_bin.parameters(), lr=0.001)\n",
    "\n",
    "for epoch in range(epochs):\n",
    "    optimizer_bin.zero_grad()\n",
    "    output_bin = model_bin(x_train)\n",
    "    loss_bin = criterion_bin(output_bin, y_train)\n",
    "    loss_bin.backward()\n",
    "    optimizer_bin.step()\n",
    "\n",
    "print(\"\\n----- Binary Classification -----\")\n",
    "print(\"Model Parameters:\", model_bin.state_dict())\n",
    "print(\"Final Training Loss: {:.4f}\".format(loss_bin.item()))\n"
   ]
  },
  {
   "cell_type": "markdown",
   "metadata": {},
   "source": [
    "## Analysis: Binary Classification\n",
    "\n",
    "- **Training Procedure:**  \n",
    "  A linear model with two inputs was used. The model was trained for 1000 epochs using BCEWithLogitsLoss (which internally applies a sigmoid function) and SGD as the optimizer.\n",
    "\n",
    "- **Final Parameters & Loss:**  \n",
    "  The final model parameters and training loss are printed. These indicate the model's performance on the training set.\n",
    "\n",
    "- **Observations:**  \n",
    "  The binary classifier demonstrates that the selected features (Alcohol and Volatile Acidity) can be used to predict whether the citric acid level is greater than 0. For a complete evaluation, further testing on the test set and thresholding of logits would be required.\n"
   ]
  }
 ],
 "metadata": {
  "kernelspec": {
   "display_name": ".venv",
   "language": "python",
   "name": "python3"
  },
  "language_info": {
   "codemirror_mode": {
    "name": "ipython",
    "version": 3
   },
   "file_extension": ".py",
   "mimetype": "text/x-python",
   "name": "python",
   "nbconvert_exporter": "python",
   "pygments_lexer": "ipython3",
   "version": "3.12.2"
  }
 },
 "nbformat": 4,
 "nbformat_minor": 2
}
